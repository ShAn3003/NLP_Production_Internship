{
 "cells": [
  {
   "cell_type": "code",
   "execution_count": 3,
   "metadata": {},
   "outputs": [
    {
     "data": {
      "text/plain": [
       "array([ 2.89, 11.56, 26.01])"
      ]
     },
     "execution_count": 3,
     "metadata": {},
     "output_type": "execute_result"
    }
   ],
   "source": [
    "import numpy as np\n",
    "\n",
    "x_data = np.array([1.0,2.0,3.0])\n",
    "y_data = np.array([2.0,4.0,6.0])\n",
    "\n",
    "def forward(x):\n",
    "    w1 = np.array([0.3])\n",
    "    return x*w1\n",
    "\n",
    "def loss(x,y):\n",
    "    y_hat = forward(x)\n",
    "    return (y_hat-y)**2\n",
    "\n",
    "loss(x_data,y_data)"
   ]
  },
  {
   "cell_type": "code",
   "execution_count": 1,
   "metadata": {},
   "outputs": [
    {
     "name": "stdout",
     "output_type": "stream",
     "text": [
      "['i', 'am', 'a', 'boy']\n"
     ]
    }
   ],
   "source": [
    "sentence = \"i am a boy\"\n",
    "wordlist = sentence.split()\n",
    "print(wordlist)"
   ]
  }
 ],
 "metadata": {
  "kernelspec": {
   "display_name": "torch",
   "language": "python",
   "name": "python3"
  },
  "language_info": {
   "codemirror_mode": {
    "name": "ipython",
    "version": 3
   },
   "file_extension": ".py",
   "mimetype": "text/x-python",
   "name": "python",
   "nbconvert_exporter": "python",
   "pygments_lexer": "ipython3",
   "version": "3.11.7"
  }
 },
 "nbformat": 4,
 "nbformat_minor": 2
}
